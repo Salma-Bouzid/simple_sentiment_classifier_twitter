{
 "cells": [
  {
   "cell_type": "markdown",
   "metadata": {},
   "source": [
    "### Task Definition: \n",
    "Create a Jupyter notebook with a simple analysis based on Twitter Sentiment Analysis Training Corpus:\n",
    "http://thinknook.com/twitter-sentiment-analysis-training-corpus-dataset-2012-09-22/\n",
    "\n",
    "— Show the top-10 most positive words, top-10 negative words (words more frequent with positive and negative labels respectively). \n",
    "\n",
    "— Check the Zipf law (https://en.wikipedia.org/wiki/Zipf%27s_law: the frequency of any word is inversely proportional to its rank in the frequency table), show it using a plot. \n",
    "\n",
    "— Write a simple classifier to predict sentiment, describe your approach and what can be done to improve the results."
   ]
  },
  {
   "cell_type": "code",
   "execution_count": 19,
   "metadata": {},
   "outputs": [],
   "source": [
    "import pandas as pd\n",
    "from nltk.corpus import stopwords\n",
    "\n",
    "from collections import Counter\n",
    "import re\n",
    "#import spacy\n",
    "#nlp = spacy.load('en')\n",
    "import numpy as np\n",
    "from sklearn.metrics import  classification_report\n",
    "from sklearn.linear_model import LogisticRegression\n",
    "from sklearn.feature_extraction.text import TfidfVectorizer\n",
    "from sklearn.decomposition import TruncatedSVD\n"
   ]
  },
  {
   "cell_type": "code",
   "execution_count": 20,
   "metadata": {},
   "outputs": [],
   "source": [
    "stopwords = list(set(stopwords.words('english')))"
   ]
  },
  {
   "cell_type": "markdown",
   "metadata": {},
   "source": [
    "### Load the dataset"
   ]
  },
  {
   "cell_type": "code",
   "execution_count": 21,
   "metadata": {},
   "outputs": [
    {
     "name": "stderr",
     "output_type": "stream",
     "text": [
      "/Users/bouyida/anaconda3/envs/analytics/lib/python3.6/site-packages/IPython/core/interactiveshell.py:2728: DtypeWarning: Columns (0,1) have mixed types. Specify dtype option on import or set low_memory=False.\n",
      "  interactivity=interactivity, compiler=compiler, result=result)\n"
     ]
    }
   ],
   "source": [
    "data = pd.read_csv(\"sent.csv\", names=['ufeffItemID','sentiment','SentimentSource','text'])[[\"sentiment\", \"text\"]].iloc[1:]"
   ]
  },
  {
   "cell_type": "code",
   "execution_count": 22,
   "metadata": {},
   "outputs": [
    {
     "data": {
      "text/plain": [
       "array(['0', '1', 0, 1], dtype=object)"
      ]
     },
     "execution_count": 22,
     "metadata": {},
     "output_type": "execute_result"
    }
   ],
   "source": [
    "data[\"sentiment\"].unique()"
   ]
  },
  {
   "cell_type": "code",
   "execution_count": 23,
   "metadata": {},
   "outputs": [],
   "source": [
    "data[\"sentiment\"]= data[\"sentiment\"].apply(np.float64) #preprocess target values"
   ]
  },
  {
   "cell_type": "code",
   "execution_count": 24,
   "metadata": {},
   "outputs": [
    {
     "data": {
      "text/plain": [
       "array([0., 1.])"
      ]
     },
     "execution_count": 24,
     "metadata": {},
     "output_type": "execute_result"
    }
   ],
   "source": [
    "data[\"sentiment\"].unique()"
   ]
  },
  {
   "cell_type": "markdown",
   "metadata": {},
   "source": [
    "This preprocessing routine was taken from [this guthub repo](https://github.com/abdulfatir/twitter-sentiment-analysis/blob/master/preprocess.py)"
   ]
  },
  {
   "cell_type": "code",
   "execution_count": 25,
   "metadata": {},
   "outputs": [],
   "source": [
    "def handle_emojis(tweet):\n",
    "    # Smile -- :), : ), :-), (:, ( :, (-:, :')\n",
    "    tweet = re.sub(r'(:\\s?\\)|:-\\)|\\(\\s?:|\\(-:|:\\'\\))', ' positive emoji ', tweet)\n",
    "    # Laugh -- :D, : D, :-D, xD, x-D, XD, X-D\n",
    "    tweet = re.sub(r'(:\\s?D|:-D|x-?D|X-?D)', ' positive emoji ', tweet)\n",
    "    # Love -- <3, :*\n",
    "    tweet = re.sub(r'(<3|:\\*)', ' positive ', tweet)\n",
    "    # Wink -- ;-), ;), ;-D, ;D, (;,  (-;\n",
    "    tweet = re.sub(r'(;-?\\)|;-?D|\\(-?;)', ' positive emoji ', tweet)\n",
    "    # Sad -- :-(, : (, :(, ):, )-:\n",
    "    tweet = re.sub(r'(:\\s?\\(|:-\\(|\\)\\s?:|\\)-:)', ' negative emoji ', tweet)\n",
    "    # Cry -- :,(, :'(, :\"(\n",
    "    tweet = re.sub(r'(:,\\(|:\\'\\(|:\"\\()', ' negative emoji', tweet)\n",
    "    return tweet"
   ]
  },
  {
   "cell_type": "code",
   "execution_count": 26,
   "metadata": {},
   "outputs": [],
   "source": [
    "def preprocess(tweet):\n",
    "    \n",
    "    #replace emojis \n",
    "    tweet = handle_emojis(tweet)  \n",
    "    #remove punctuation \n",
    "    tweet = re.sub(r'[^\\w\\s]','', tweet)\n",
    "    #lowercase\n",
    "    tweet = tweet.lower()\n",
    "    # Replaces URLs with the word URL\n",
    "    tweet = re.sub(r'((www\\.[\\S]+)|(https?://[\\S]+))', ' link ', tweet)\n",
    "    # Replace @handle with the word USER_MENTION\n",
    "    tweet = re.sub(r'@[\\S]+', 'user mentioned', tweet)\n",
    "    # Replaces #hashtag with hashtag\n",
    "    tweet = re.sub(r'#(\\S+)', r' \\1 ', tweet)\n",
    "    # Remove RT (retweet)\n",
    "    tweet = re.sub(r'\\brt\\b', '', tweet)\n",
    "    # Replace 2+ dots with space\n",
    "    tweet = re.sub(r'\\.{2,}', ' ', tweet)\n",
    "    # Strip space, \" and ' from tweet\n",
    "    tweet = tweet.strip(' \"\\'')\n",
    "    # Replace multiple spaces with a single space\n",
    "    tweet = re.sub(r'\\s+', ' ', tweet)\n",
    " #   tweet = \" \".join( tok.string for tok in nlp(tweet) )\n",
    "\n",
    "    return tweet\n",
    "\n",
    "\n"
   ]
  },
  {
   "cell_type": "code",
   "execution_count": 27,
   "metadata": {},
   "outputs": [],
   "source": [
    "data[\"text\"] = data[\"text\"].apply(preprocess)"
   ]
  },
  {
   "cell_type": "markdown",
   "metadata": {},
   "source": [
    "### — Show the top-10 most positive words, top-10 negative words (words more frequent with positive and negative labels respectively). \n",
    "\n"
   ]
  },
  {
   "cell_type": "code",
   "execution_count": 28,
   "metadata": {},
   "outputs": [],
   "source": [
    "neg_words = []\n",
    "pos_words =[]\n",
    "for i, sent in data[\"text\"].iteritems():\n",
    "        if data[\"sentiment\"][i]== 0:\n",
    "            neg_words.extend(sent.split())\n",
    "        else:\n",
    "            pos_words.extend(sent.split())"
   ]
  },
  {
   "cell_type": "markdown",
   "metadata": {},
   "source": [
    "### Popular neg/positive words without ommitting stop words"
   ]
  },
  {
   "cell_type": "code",
   "execution_count": 29,
   "metadata": {},
   "outputs": [
    {
     "data": {
      "text/plain": [
       "[('i', 458851),\n",
       " ('to', 310687),\n",
       " ('the', 255648),\n",
       " ('my', 187064),\n",
       " ('a', 179539),\n",
       " ('and', 150890),\n",
       " ('is', 126735),\n",
       " ('it', 118674),\n",
       " ('in', 113935),\n",
       " ('im', 102074)]"
      ]
     },
     "execution_count": 29,
     "metadata": {},
     "output_type": "execute_result"
    }
   ],
   "source": [
    "Counter(neg_words).most_common(10)"
   ]
  },
  {
   "cell_type": "code",
   "execution_count": 30,
   "metadata": {},
   "outputs": [
    {
     "data": {
      "text/plain": [
       "[('i', 287124),\n",
       " ('the', 262309),\n",
       " ('to', 249658),\n",
       " ('a', 195585),\n",
       " ('you', 174730),\n",
       " ('and', 146603),\n",
       " ('my', 124092),\n",
       " ('for', 116218),\n",
       " ('it', 111382),\n",
       " ('is', 107606)]"
      ]
     },
     "execution_count": 30,
     "metadata": {},
     "output_type": "execute_result"
    }
   ],
   "source": [
    "Counter(pos_words).most_common(10)"
   ]
  },
  {
   "cell_type": "markdown",
   "metadata": {},
   "source": [
    "### Let's check the most popular non stop words"
   ]
  },
  {
   "cell_type": "code",
   "execution_count": 31,
   "metadata": {},
   "outputs": [],
   "source": [
    "neg_words = [w for w in neg_words if w not in stopwords]\n",
    "pos_words = [w for w in pos_words if w not in stopwords]"
   ]
  },
  {
   "cell_type": "code",
   "execution_count": 32,
   "metadata": {},
   "outputs": [
    {
     "data": {
      "text/plain": [
       "[('im', 102074),\n",
       " ('get', 45210),\n",
       " ('go', 44660),\n",
       " ('dont', 44457),\n",
       " ('cant', 43199),\n",
       " ('work', 42669),\n",
       " ('like', 40475),\n",
       " ('day', 37638),\n",
       " ('today', 35935),\n",
       " ('going', 33171)]"
      ]
     },
     "execution_count": 32,
     "metadata": {},
     "output_type": "execute_result"
    }
   ],
   "source": [
    "Counter(neg_words).most_common(10)"
   ]
  },
  {
   "cell_type": "code",
   "execution_count": 33,
   "metadata": {},
   "outputs": [
    {
     "data": {
      "text/plain": [
       "[('im', 74423),\n",
       " ('good', 59525),\n",
       " ('love', 46727),\n",
       " ('day', 43498),\n",
       " ('like', 37039),\n",
       " ('get', 35847),\n",
       " ('thanks', 33634),\n",
       " ('lol', 33344),\n",
       " ('going', 30258),\n",
       " ('u', 29941)]"
      ]
     },
     "execution_count": 33,
     "metadata": {},
     "output_type": "execute_result"
    }
   ],
   "source": [
    "Counter(pos_words).most_common(10)"
   ]
  },
  {
   "cell_type": "markdown",
   "metadata": {},
   "source": [
    "### Zipf Law graph"
   ]
  },
  {
   "cell_type": "code",
   "execution_count": 49,
   "metadata": {},
   "outputs": [
    {
     "data": {
      "text/plain": [
       "Text(0.5,1,\"Zipf's law: frequency versus rank of the first 1000 words\")"
      ]
     },
     "execution_count": 49,
     "metadata": {},
     "output_type": "execute_result"
    },
    {
     "data": {
      "image/png": "[encoded data removed]",
      "text/plain": [
       "<matplotlib.figure.Figure at 0x115467ac8>"
      ]
     },
     "metadata": {},
     "output_type": "display_data"
    }
   ],
   "source": [
    "all_words = neg_words+pos_words\n",
    "\n",
    "count_all = Counter(all_words)\n",
    "\n",
    "words = list(count_all.keys())\n",
    "freq = list(count_all.values())\n",
    "\n",
    "list(count_all.keys())[0]\n",
    "\n",
    "freq_words = pd.DataFrame({\"words\": words, \"freq\": freq})\n",
    "freq_words = freq_words.sort_values(by=[\"freq\"], ascending=False)\n",
    "freq_words[\"rank\"] = np.arange(len(freq_words))\n",
    "\n",
    "import seaborn as sns\n",
    "import matplotlib.pyplot as plt\n",
    "\n",
    "plt.figure(figsize=(20,10))\n",
    "plt.scatter(x=\"rank\", y=\"freq\", data=freq_words.iloc[:1000], s =4)\n",
    "plt.xlabel(\"Rank of words\")\n",
    "plt.ylabel(\"Frequency of words\")\n",
    "plt.title(\"Zipf's law: frequency versus rank of the first 1000 words\")"
   ]
  },
  {
   "cell_type": "markdown",
   "metadata": {},
   "source": [
    "### Build sentiment classifier"
   ]
  },
  {
   "cell_type": "code",
   "execution_count": 35,
   "metadata": {},
   "outputs": [],
   "source": [
    "data = data.sample(frac = 1.0)"
   ]
  },
  {
   "cell_type": "markdown",
   "metadata": {},
   "source": [
    "### Prepare train,validation,test sets"
   ]
  },
  {
   "cell_type": "code",
   "execution_count": 36,
   "metadata": {},
   "outputs": [],
   "source": [
    "train_text = data[data[\"sentiment\"]== 1][\"text\"].iloc[:lentrain].values\n",
    "y_train = np.ones(lentrain)\n",
    "train_text = np.append(train_text, data[data[\"sentiment\"]== 0][\"text\"].iloc[:lentrain])\n",
    "y_train = np.append(y_train, np.zeros(lentrain))"
   ]
  },
  {
   "cell_type": "code",
   "execution_count": 37,
   "metadata": {},
   "outputs": [
    {
     "data": {
      "text/plain": [
       "(8000,)"
      ]
     },
     "execution_count": 37,
     "metadata": {},
     "output_type": "execute_result"
    }
   ],
   "source": [
    "train_text.shape"
   ]
  },
  {
   "cell_type": "code",
   "execution_count": 38,
   "metadata": {},
   "outputs": [],
   "source": [
    "lentrain = 8000\n",
    "lenvalid = 2000\n",
    "lentest = lenvalid"
   ]
  },
  {
   "cell_type": "code",
   "execution_count": 39,
   "metadata": {},
   "outputs": [],
   "source": [
    "valid_text = data[data[\"sentiment\"]== 1][\"text\"].iloc[lentrain:lentrain+lenvalid].values\n",
    "y_valid = np.ones(lenvalid)\n",
    "valid_text = np.append(valid_text, data[data[\"sentiment\"]== 0][\"text\"].iloc[lentrain:lentrain+lenvalid].values)\n",
    "y_valid = np.append(y_valid, np.zeros(lenvalid))"
   ]
  },
  {
   "cell_type": "code",
   "execution_count": 40,
   "metadata": {},
   "outputs": [],
   "source": [
    "test_text = data[data[\"sentiment\"]== 1][\"text\"].iloc[lentrain+lenvalid:lentrain+lenvalid+lentest].values\n",
    "y_test = np.ones(lentest)\n",
    "test_text = np.append(test_text, data[data[\"sentiment\"]== 0][\"text\"].iloc[lentrain+lenvalid:lentrain+lenvalid+lentest])\n",
    "y_test = np.append(y_test, np.zeros(lentest))d"
   ]
  },
  {
   "cell_type": "code",
   "execution_count": 41,
   "metadata": {},
   "outputs": [],
   "source": [
    "train = np.column_stack((train_text, y_train)).reshape(-1,2)\n",
    "valid = np.column_stack((valid_text,y_valid)).reshape(-1,2)\n",
    "test =np.column_stack((test_text, y_test)).reshape(-1,2)"
   ]
  },
  {
   "cell_type": "code",
   "execution_count": 42,
   "metadata": {},
   "outputs": [],
   "source": [
    "np.random.shuffle(train)\n",
    "np.random.shuffle(valid)\n",
    "np.random.shuffle(test)"
   ]
  },
  {
   "cell_type": "markdown",
   "metadata": {},
   "source": [
    "### Build TF-IDF vectors"
   ]
  },
  {
   "cell_type": "code",
   "execution_count": 43,
   "metadata": {},
   "outputs": [
    {
     "name": "stderr",
     "output_type": "stream",
     "text": [
      "/Users/bouyida/anaconda3/envs/analytics/lib/python3.6/site-packages/sklearn/feature_extraction/text.py:1089: FutureWarning: Conversion of the second argument of issubdtype from `float` to `np.floating` is deprecated. In future, it will be treated as `np.float64 == np.dtype(float).type`.\n",
      "  if hasattr(X, 'dtype') and np.issubdtype(X.dtype, np.float):\n"
     ]
    }
   ],
   "source": [
    "tfidf = TfidfVectorizer(ngram_range=(1,2), analyzer='word')\n",
    "x_train_tfidf = tfidf.fit_transform(train[:,0])\n",
    "x_valid_tfidf = tfidf.transform(valid[:,0])\n",
    "x_test_tfidf = tfidf.transform(test[:,0])"
   ]
  },
  {
   "cell_type": "markdown",
   "metadata": {},
   "source": [
    "### Reduce dimensionality"
   ]
  },
  {
   "cell_type": "code",
   "execution_count": 44,
   "metadata": {},
   "outputs": [],
   "source": [
    "svd = TruncatedSVD(n_components = 5000, algorithm = \"arpack\" )\n",
    "train_svd = svd.fit_transform(x_train_tfidf)\n",
    "valid_svd = svd.transform(x_valid_tfidf)\n",
    "test_svd = svd.transform(x_test_tfidf)"
   ]
  },
  {
   "cell_type": "markdown",
   "metadata": {},
   "source": [
    "### check how much variance is preserved"
   ]
  },
  {
   "cell_type": "code",
   "execution_count": 45,
   "metadata": {},
   "outputs": [
    {
     "data": {
      "text/plain": [
       "0.7849088033880783"
      ]
     },
     "execution_count": 45,
     "metadata": {},
     "output_type": "execute_result"
    }
   ],
   "source": [
    "svd.explained_variance_ratio_.sum()"
   ]
  },
  {
   "cell_type": "markdown",
   "metadata": {},
   "source": [
    "### build simple logistic regression model"
   ]
  },
  {
   "cell_type": "code",
   "execution_count": 46,
   "metadata": {},
   "outputs": [
    {
     "data": {
      "text/plain": [
       "LogisticRegression(C=1.0, class_weight=None, dual=False, fit_intercept=True,\n",
       "          intercept_scaling=1, max_iter=100, multi_class='ovr', n_jobs=1,\n",
       "          penalty='l2', random_state=None, solver='liblinear', tol=0.0001,\n",
       "          verbose=0, warm_start=False)"
      ]
     },
     "execution_count": 46,
     "metadata": {},
     "output_type": "execute_result"
    }
   ],
   "source": [
    "clf =LogisticRegression()\n",
    "clf.fit(train_svd, train[:,1].astype('int'))\n"
   ]
  },
  {
   "cell_type": "code",
   "execution_count": 47,
   "metadata": {},
   "outputs": [
    {
     "name": "stdout",
     "output_type": "stream",
     "text": [
      "             precision    recall  f1-score   support\n",
      "\n",
      "          0       0.73      0.79      0.76      2000\n",
      "          1       0.77      0.70      0.73      2000\n",
      "\n",
      "avg / total       0.75      0.74      0.74      4000\n",
      "\n"
     ]
    }
   ],
   "source": [
    "predictions = clf.predict(valid_svd)\n",
    "\n",
    "print(classification_report(valid[:,1].astype('int'), predictions))\n",
    "\n"
   ]
  },
  {
   "cell_type": "code",
   "execution_count": 48,
   "metadata": {},
   "outputs": [
    {
     "name": "stdout",
     "output_type": "stream",
     "text": [
      "             precision    recall  f1-score   support\n",
      "\n",
      "          0       0.73      0.78      0.76      2000\n",
      "          1       0.77      0.72      0.74      2000\n",
      "\n",
      "avg / total       0.75      0.75      0.75      4000\n",
      "\n"
     ]
    }
   ],
   "source": [
    "print(classification_report(test[:,1].astype('int'), clf.predict(test_svd)))\n",
    "\n"
   ]
  },
  {
   "cell_type": "markdown",
   "metadata": {},
   "source": [
    "###  Write a simple classifier to predict sentiment, describe your approach and what can be done to improve the results.\n",
    "\n",
    "Our dataset includes 1578614 tweets. It is large and classical NLP will be too slow to solve this binary classification problem. \n",
    "The simplest solution would be to reduce the size of our dataset by taking into account class imbalance and performing LSA (transform the vectors using TFIDF, reduce dimensionality then perform a simple logistic regression classifier) \n",
    "\n",
    "The more sophisticated approach would be to preprocess the data by  tokenizing, lemmatizing the text. Create an embedding matrix using glove or fastext then run an LSTM or a simple RNN as a model."
   ]
  },
  {
   "cell_type": "code",
   "execution_count": null,
   "metadata": {},
   "outputs": [],
   "source": []
  }
 ],
 "metadata": {
  "kernelspec": {
   "display_name": "Python 3",
   "language": "python",
   "name": "python3"
  },
  "language_info": {
   "codemirror_mode": {
    "name": "ipython",
    "version": 3
   },
   "file_extension": ".py",
   "mimetype": "text/x-python",
   "name": "python",
   "nbconvert_exporter": "python",
   "pygments_lexer": "ipython3",
   "version": "3.6.4"
  }
 },
 "nbformat": 4,
 "nbformat_minor": 2
}
